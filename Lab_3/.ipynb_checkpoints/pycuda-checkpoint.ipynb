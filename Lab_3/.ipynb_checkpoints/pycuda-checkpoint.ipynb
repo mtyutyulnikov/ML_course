{
 "cells": [
  {
   "cell_type": "code",
   "execution_count": 12,
   "id": "f1bc39ac-bca4-49ae-90b9-9f48a82dd83e",
   "metadata": {},
   "outputs": [],
   "source": [
    "import pycuda.gpuarray as gpuarray\n",
    "import pycuda.driver as cuda\n",
    "import pycuda.autoinit\n",
    "import numpy as np\n",
    "\n",
    "import pycuda\n",
    "import cupy as cp\n",
    "\n",
    "# from pyculib.blas import Blas\n",
    "# Blas = Blas()"
   ]
  },
  {
   "cell_type": "code",
   "execution_count": 13,
   "id": "09718d3f-f253-4a8e-8226-20c0ec64f982",
   "metadata": {},
   "outputs": [],
   "source": [
    "\n",
    "a_gpu = cp.random.randn(4, 4)\n",
    "b_gpu = cp.random.randn(4, 4)\n",
    "\n",
    "c_gpu = cp.dot(a_gpu, b_gpu)"
   ]
  },
  {
   "cell_type": "code",
   "execution_count": 18,
   "id": "a2ad0e01-be4d-4058-b7b0-c693badc3dfa",
   "metadata": {},
   "outputs": [
    {
     "data": {
      "text/plain": [
       "(array([[-0.45208806, -1.45588358, -0.10702163, -1.93156534],\n",
       "        [-2.57512826,  2.32087814, -0.81009215, -1.59609201],\n",
       "        [-0.62343255, -1.1545197 ,  1.22625423, -0.23463489],\n",
       "        [ 1.0176159 ,  0.19221372,  1.37841437, -1.05242602]]),\n",
       " array([[-0.74161874, -0.46466223, -0.24858672, -0.58552531],\n",
       "        [-0.33044028, -0.12392781,  1.26150275,  1.19077757],\n",
       "        [ 1.06636659,  2.06785923,  2.2291372 ,  1.65695417],\n",
       "        [-0.70977577,  0.77419017,  0.74723562, -0.03498322]]),\n",
       " array([[ 2.07321354, -1.32621186, -3.4061184 , -1.57868207],\n",
       "        [ 1.41186398, -2.00189179,  0.56947349,  2.98500328],\n",
       "        [ 2.31802379,  2.78683177,  1.25670865,  1.03031472],\n",
       "        [ 1.39868333,  1.5389207 ,  2.27577688,  1.95383061]]))"
      ]
     },
     "execution_count": 18,
     "metadata": {},
     "output_type": "execute_result"
    }
   ],
   "source": [
    "a_gpu, b_gpu, c_gpu"
   ]
  },
  {
   "cell_type": "code",
   "execution_count": 9,
   "id": "207ab799-0b0a-42df-8326-dee763bfc5c3",
   "metadata": {},
   "outputs": [],
   "source": [
    "a_gpu = gpuarray.to_gpu(numpy.random.randn(4, 4).astype(numpy.float32))\n",
    "b_gpu = gpuarray.to_gpu(numpy.random.randn(4, 4).astype(numpy.float32))\n",
    "c_gpu = gpuarray.to_gpu(numpy.zeros((4,4)).astype(numpy.float32))\n",
    "\n",
    "\n",
    "# Blas.gemm('N', 'N', 4, 4, 4, a_gpu, b_gpu, 0, c_gpu)"
   ]
  },
  {
   "cell_type": "code",
   "execution_count": 10,
   "id": "c44b4b68-50a1-4aa3-aea8-c1bf46a9740a",
   "metadata": {},
   "outputs": [
    {
     "ename": "AttributeError",
     "evalue": "'GPUArray' object has no attribute 'dot'",
     "output_type": "error",
     "traceback": [
      "\u001b[0;31m---------------------------------------------------------------------------\u001b[0m",
      "\u001b[0;31mAttributeError\u001b[0m                            Traceback (most recent call last)",
      "\u001b[0;32m<ipython-input-10-ac2419bfae16>\u001b[0m in \u001b[0;36m<module>\u001b[0;34m\u001b[0m\n\u001b[0;32m----> 1\u001b[0;31m \u001b[0mc_gpu\u001b[0m \u001b[0;34m=\u001b[0m \u001b[0mcp\u001b[0m\u001b[0;34m.\u001b[0m\u001b[0mdot\u001b[0m\u001b[0;34m(\u001b[0m\u001b[0ma_gpu\u001b[0m\u001b[0;34m,\u001b[0m \u001b[0mb_gpu\u001b[0m\u001b[0;34m)\u001b[0m\u001b[0;34m\u001b[0m\u001b[0;34m\u001b[0m\u001b[0m\n\u001b[0m",
      "\u001b[0;32m~/jup_env/lib/python3.8/site-packages/cupy/linalg/_product.py\u001b[0m in \u001b[0;36mdot\u001b[0;34m(a, b, out)\u001b[0m\n\u001b[1;32m     63\u001b[0m     \"\"\"\n\u001b[1;32m     64\u001b[0m     \u001b[0;31m# TODO(okuta): check type\u001b[0m\u001b[0;34m\u001b[0m\u001b[0;34m\u001b[0m\u001b[0;34m\u001b[0m\u001b[0m\n\u001b[0;32m---> 65\u001b[0;31m     \u001b[0;32mreturn\u001b[0m \u001b[0ma\u001b[0m\u001b[0;34m.\u001b[0m\u001b[0mdot\u001b[0m\u001b[0;34m(\u001b[0m\u001b[0mb\u001b[0m\u001b[0;34m,\u001b[0m \u001b[0mout\u001b[0m\u001b[0;34m)\u001b[0m\u001b[0;34m\u001b[0m\u001b[0;34m\u001b[0m\u001b[0m\n\u001b[0m\u001b[1;32m     66\u001b[0m \u001b[0;34m\u001b[0m\u001b[0m\n\u001b[1;32m     67\u001b[0m \u001b[0;34m\u001b[0m\u001b[0m\n",
      "\u001b[0;31mAttributeError\u001b[0m: 'GPUArray' object has no attribute 'dot'"
     ]
    }
   ],
   "source": []
  },
  {
   "cell_type": "code",
   "execution_count": 38,
   "id": "c8db8b7b-6b24-4aca-8549-ccf5f9dd79f1",
   "metadata": {},
   "outputs": [
    {
     "name": "stdout",
     "output_type": "stream",
     "text": [
      "original array:\n",
      "[[-0.11195923 -0.22853392 -0.6305419  -0.19271427]\n",
      " [ 0.8398443   0.16593747  0.31804982  2.5873938 ]\n",
      " [-0.7881569   1.2949262  -0.79106194  1.0940986 ]\n",
      " [-1.3863486  -0.19165555 -1.1574366  -0.7090791 ]]\n",
      "doubled with gpuarray:\n",
      "[[-0.22391845 -0.45706785 -1.2610838  -0.38542855]\n",
      " [ 1.6796886   0.33187494  0.63609964  5.1747875 ]\n",
      " [-1.5763139   2.5898523  -1.5821239   2.1881971 ]\n",
      " [-2.7726972  -0.3833111  -2.3148732  -1.4181582 ]]\n"
     ]
    }
   ],
   "source": [
    "#!python \n",
    "# Sample source code from the Tutorial Introduction in the documentation.\n",
    "\n",
    "import pycuda.driver as cuda\n",
    "import pycuda.autoinit\n",
    "from pycuda.compiler import SourceModule\n",
    "\n",
    "import numpy\n",
    "a = numpy.random.randn(4,4)\n",
    "\n",
    "a = a.astype(numpy.float32)\n",
    "\n",
    "a_gpu = cuda.mem_alloc(a.size * a.dtype.itemsize)\n",
    "\n",
    "cuda.memcpy_htod(a_gpu, a)\n",
    "\n",
    "mod = SourceModule(\"\"\"\n",
    "    __global__ void doublify(float *a)\n",
    "    {\n",
    "      int idx = threadIdx.x + threadIdx.y*4;\n",
    "      a[idx] *= 2;\n",
    "    }\n",
    "    \"\"\")\n",
    "\n",
    "func = mod.get_function(\"doublify\")\n",
    "func(a_gpu, block=(4, 4, 1))\n",
    "\n",
    "a_doubled = numpy.empty_like(a)\n",
    "cuda.memcpy_dtoh(a_doubled, a_gpu)\n",
    "print (\"original array:\")\n",
    "print (a)\n",
    "print (\"doubled with gpuarray:\")\n",
    "print (a_doubled)\n",
    "\n",
    "# alternate kernel invocation -------------------------------------------------\n",
    "\n",
    "# func(cuda.InOut(a), block=(2, 2, 1))\n",
    "# print (\"doubled with InOut:\")\n",
    "# print (a)\n",
    "\n",
    "# # part 2 ----------------------------------------------------------------------\n",
    "\n",
    "# import pycuda.gpuarray as gpuarray\n",
    "# a_gpu = gpuarray.to_gpu(numpy.random.randn(4,4).astype(numpy.float32))\n",
    "# a_doubled = (2*a_gpu).get()\n",
    "\n",
    "# print (\"original array:\")\n",
    "# print (a_gpu)\n",
    "# print (\"doubled with gpuarray:\")\n",
    "# print (a_doubled)"
   ]
  },
  {
   "cell_type": "code",
   "execution_count": null,
   "id": "d3d59509-0df2-4d00-9db1-1ac017a121e0",
   "metadata": {},
   "outputs": [],
   "source": []
  },
  {
   "cell_type": "code",
   "execution_count": 20,
   "id": "bb35fb8c-4f83-4787-bd1a-0ce96dda310d",
   "metadata": {},
   "outputs": [],
   "source": [
    "A = gpuarray.to_gpu(numpy.random.randn(4, 4).astype(numpy.float32))\n",
    "B = gpuarray.to_gpu(numpy.random.randn(4, 4).astype(numpy.float32))\n",
    "C = gpuarray.to_gpu(numpy.zeros((4, 4), dtype=numpy.float32))#.astype(numpy.float32))\n",
    "\n",
    "# C = gpuarray.to_gpu(numpy.zeros(4, 4).astype(numpy.float32))\n"
   ]
  },
  {
   "cell_type": "code",
   "execution_count": 8,
   "id": "98d03887-f698-468c-a43e-25121ac019c7",
   "metadata": {},
   "outputs": [],
   "source": [
    "import scipy.signal\n",
    "import numpy as np"
   ]
  },
  {
   "cell_type": "code",
   "execution_count": 15,
   "id": "7dc4b368-12a6-47e5-bb3f-c9abad91cd14",
   "metadata": {},
   "outputs": [],
   "source": [
    "filter_kernel = [[0, -6, 2],\n",
    "                 [1, 3, -2],\n",
    "                 [-1, 1, -1]]\n",
    "a = np.random.randn(20, 20)"
   ]
  },
  {
   "cell_type": "code",
   "execution_count": 18,
   "id": "86bbced9-8d4d-4f24-ac93-95af9875e51a",
   "metadata": {},
   "outputs": [],
   "source": [
    "res = scipy.signal.convolve2d(a, filter_kernel,\n",
    "                              mode='same', boundary='symm', fillvalue=0)"
   ]
  },
  {
   "cell_type": "code",
   "execution_count": 17,
   "id": "4c8f28f8-f7aa-43dd-a72d-3c586cdae3cc",
   "metadata": {},
   "outputs": [
    {
     "data": {
      "text/plain": [
       "(20, 20)"
      ]
     },
     "execution_count": 17,
     "metadata": {},
     "output_type": "execute_result"
    }
   ],
   "source": [
    "res.shape"
   ]
  },
  {
   "cell_type": "code",
   "execution_count": 19,
   "id": "d1064ab9-9f11-4409-9bbb-ebf221fff6a0",
   "metadata": {},
   "outputs": [],
   "source": [
    "a = np.random.randn(224, 224, 96)"
   ]
  },
  {
   "cell_type": "code",
   "execution_count": 23,
   "id": "52ed4c67-5f45-408a-9434-8c17415f2acf",
   "metadata": {},
   "outputs": [
    {
     "name": "stdout",
     "output_type": "stream",
     "text": [
      "2.77 ms ± 12.8 µs per loop (mean ± std. dev. of 7 runs, 100 loops each)\n"
     ]
    }
   ],
   "source": [
    "%%timeit\n",
    "a < 0"
   ]
  },
  {
   "cell_type": "code",
   "execution_count": 31,
   "id": "d8322ae8-a46a-49eb-b660-efe5220802d9",
   "metadata": {},
   "outputs": [],
   "source": [
    "import cupy as cp\n",
    "a_gpu = cp.random.randn(224, 224, 96)\n",
    "indexes = cp.zeros_like(a_gpu, dtype=np.bool)"
   ]
  },
  {
   "cell_type": "code",
   "execution_count": 32,
   "id": "b66f6410-1e30-4264-aa9f-22f841edc66b",
   "metadata": {},
   "outputs": [
    {
     "name": "stdout",
     "output_type": "stream",
     "text": [
      "112 µs ± 0.872 ns per loop (mean ± std. dev. of 7 runs, 10000 loops each)\n"
     ]
    }
   ],
   "source": [
    "%%timeit\n",
    "cp.less(a_gpu, 0, out=indexes)"
   ]
  },
  {
   "cell_type": "code",
   "execution_count": 1,
   "id": "3f076fc5-4579-4c35-963f-fecea629f64d",
   "metadata": {},
   "outputs": [],
   "source": [
    "import numpy as np"
   ]
  },
  {
   "cell_type": "code",
   "execution_count": 2,
   "id": "5caaeef0-6fc4-4044-866c-63fe06b8febc",
   "metadata": {},
   "outputs": [],
   "source": [
    "a = np.array([1,2,3])\n",
    "b = np.array([True, False, True])"
   ]
  },
  {
   "cell_type": "code",
   "execution_count": 3,
   "id": "6feef612-925d-4e15-a55f-038dc22e1c88",
   "metadata": {},
   "outputs": [
    {
     "data": {
      "text/plain": [
       "array([1, 0, 3])"
      ]
     },
     "execution_count": 3,
     "metadata": {},
     "output_type": "execute_result"
    }
   ],
   "source": [
    "a*b"
   ]
  },
  {
   "cell_type": "code",
   "execution_count": 4,
   "id": "367c9f13-df9e-4f26-890a-cc89a3cac9bb",
   "metadata": {},
   "outputs": [],
   "source": [
    "def im2col_sliding_strided(A, BSZ, stepsize=1):\n",
    "    # Parameters\n",
    "    m,n = A.shape\n",
    "    s0, s1 = A.strides    \n",
    "    nrows = m-BSZ[0]+1\n",
    "    ncols = n-BSZ[1]+1\n",
    "    shp = BSZ[0],BSZ[1],nrows,ncols\n",
    "    strd = s0,s1,s0,s1\n",
    "    \n",
    "    out_view = np.lib.stride_tricks.as_strided(A, shape=shp, strides=strd)\n",
    "    return out_view.reshape(BSZ[0]*BSZ[1],-1)[:,::stepsize]"
   ]
  },
  {
   "cell_type": "code",
   "execution_count": 99,
   "id": "2237e906-38f1-4527-9227-2cc24749039f",
   "metadata": {},
   "outputs": [],
   "source": [
    "a = np.random.randn(2, 10, 10, 1).astype(np.float32)\n",
    "b = np.random.randn(3, 3).astype(np.float32)\n",
    "w = np.random.randn(3, 3, 1, 96).astype(np.float32)"
   ]
  },
  {
   "cell_type": "code",
   "execution_count": 100,
   "id": "af7c88f4-d98e-4a86-b2a5-065bcbb8fd4c",
   "metadata": {},
   "outputs": [
    {
     "data": {
      "text/plain": [
       "(400, 40, 4)"
      ]
     },
     "execution_count": 100,
     "metadata": {},
     "output_type": "execute_result"
    }
   ],
   "source": [
    "a.strides[:3]"
   ]
  },
  {
   "cell_type": "code",
   "execution_count": 101,
   "id": "65b42c74-5f1f-4bb6-aa4f-1f7ea8720304",
   "metadata": {},
   "outputs": [
    {
     "data": {
      "text/plain": [
       "((2, 10, 10, 1), (400, 40, 4, 4))"
      ]
     },
     "execution_count": 101,
     "metadata": {},
     "output_type": "execute_result"
    }
   ],
   "source": [
    "a.shape, a.strides"
   ]
  },
  {
   "cell_type": "code",
   "execution_count": 102,
   "id": "3c36af1e-606d-496c-a681-bb89677302fe",
   "metadata": {},
   "outputs": [],
   "source": [
    "from numpy.lib.stride_tricks import as_strided\n",
    "\n",
    "def conv2d(a, b, s=1, padding=0):\n",
    "    # Hout = a.shape[1] - b.shape[0] + 1\n",
    "    # Wout = a.shape[2] - b.shape[1] + 1\n",
    "    \n",
    "    out_height = (np.floor(a.shape[1] + 2 * padding - b.shape[0])/s + 1).astype(np.int32)\n",
    "    out_width = (np.floor(a.shape[2] + 2 * padding - b.shape[0])/s + 1).astype(np.int32)\n",
    "    \n",
    "    array_stride = (a.strides[0], a.strides[1] * s, a.strides[2] * s, a.strides[1], a.strides[2], a.strides[3])\n",
    "\n",
    "    a = as_strided(a, (a.shape[0], out_height, out_width, b.shape[0], b.shape[1], a.shape[3]), array_stride)\n",
    "    \n",
    "    print(a.shape, a.strides)\n",
    "    return np.tensordot(a, b, axes=([3, 4, 5], [0, 1, 2]))"
   ]
  },
  {
   "cell_type": "code",
   "execution_count": 103,
   "id": "5880c660-3b2b-416f-aedf-6f6b4c0c513e",
   "metadata": {},
   "outputs": [
    {
     "name": "stdout",
     "output_type": "stream",
     "text": [
      "(2, 4, 4, 3, 3, 1) (400, 80, 8, 40, 4, 4)\n"
     ]
    },
    {
     "data": {
      "text/plain": [
       "(2, 4, 4, 96)"
      ]
     },
     "execution_count": 103,
     "metadata": {},
     "output_type": "execute_result"
    }
   ],
   "source": [
    "r = conv2d(a, w, 2)\n",
    "r.shape #r.strides"
   ]
  },
  {
   "cell_type": "code",
   "execution_count": 97,
   "id": "368bec0e-080e-472f-b9f2-77ac02414598",
   "metadata": {},
   "outputs": [],
   "source": [
    "def maxpool2d(a, filter_size=3, s=1, padding=0):\n",
    "    out_height = (np.floor(a.shape[1] + 2 * padding - filter_size)/s + 1).astype(np.int32)\n",
    "    out_width = (np.floor(a.shape[2] + 2 * padding - filter_size)/s + 1).astype(np.int32)\n",
    "    \n",
    "    array_stride = (a.strides[0], a.strides[1] * s, a.strides[2] * s, a.strides[1], a.strides[2], a.strides[3])\n",
    "\n",
    "    a = as_strided(a, (a.shape[0], out_height, out_width, filter_size, filter_size, a.shape[3]), array_stride)\n",
    "    \n",
    "    print(a.shape, a.strides)\n",
    "    return a.max(axis=(3, 4))"
   ]
  },
  {
   "cell_type": "code",
   "execution_count": 104,
   "id": "ae9dce38-ba9c-4eb6-abbd-08a9df7b6ef5",
   "metadata": {},
   "outputs": [
    {
     "name": "stdout",
     "output_type": "stream",
     "text": [
      "(2, 8, 8, 3, 3, 1) (400, 40, 4, 40, 4, 4)\n"
     ]
    },
    {
     "data": {
      "text/plain": [
       "(2, 8, 8, 1)"
      ]
     },
     "execution_count": 104,
     "metadata": {},
     "output_type": "execute_result"
    }
   ],
   "source": [
    "maxpool = maxpool2d(a)\n",
    "maxpool.shape"
   ]
  },
  {
   "cell_type": "code",
   "execution_count": 140,
   "id": "cd71b6f4-7087-45e2-baeb-4ebfce225562",
   "metadata": {},
   "outputs": [
    {
     "data": {
      "text/plain": [
       "(2, 8, 16, 1)"
      ]
     },
     "execution_count": 140,
     "metadata": {},
     "output_type": "execute_result"
    }
   ],
   "source": [
    "maxpool.repeat(1, axis=2).shape"
   ]
  },
  {
   "cell_type": "code",
   "execution_count": 105,
   "id": "f0ccad4a-ca5e-409b-b7f0-0be85434af48",
   "metadata": {},
   "outputs": [],
   "source": [
    "def forward( X, filter_size=3, stride=1, padding=0):\n",
    "    batch_size, height, width, channels = X.shape\n",
    "    out_height = (height - filter_size) // stride + 1\n",
    "    out_width = (width - filter_size) // stride + 1\n",
    "\n",
    "    out = np.zeros([batch_size, out_height, out_width, channels])\n",
    "\n",
    "    for y in range(out_height):\n",
    "        for x in range(out_width):\n",
    "            y_stride = y * stride\n",
    "            x_stride = x * stride\n",
    "\n",
    "            out[:, y, x, :] = np.max(\n",
    "                X[:, y_stride:y_stride + filter_size, x_stride:x_stride + filter_size, :],\n",
    "                axis=(1, 2)\n",
    "            )\n",
    "\n",
    "    return out"
   ]
  },
  {
   "cell_type": "code",
   "execution_count": 121,
   "id": "98aab9e5-a17e-4a32-a0fe-3afb0ebe7cb4",
   "metadata": {},
   "outputs": [],
   "source": [
    "a = np.random.randn(128, 55, 55, 11, 11, 1)\n",
    "b = np.random.randn(128, 55, 55, 64)\n",
    "w = np.random.randn(11, 11, 1, 64)"
   ]
  },
  {
   "cell_type": "code",
   "execution_count": 115,
   "id": "d198f776-8d7c-4dda-9b46-176cc36ad833",
   "metadata": {},
   "outputs": [
    {
     "data": {
      "text/plain": [
       "(11, 11, 1, 64)"
      ]
     },
     "execution_count": 115,
     "metadata": {},
     "output_type": "execute_result"
    }
   ],
   "source": [
    "np.tensordot(a, b, axes=([0, 2, 1], [0, 1, 2])).shape"
   ]
  },
  {
   "cell_type": "code",
   "execution_count": 118,
   "id": "dc8ff352-cc1a-4db2-bb8b-32894c6f4c68",
   "metadata": {},
   "outputs": [
    {
     "data": {
      "text/plain": [
       "(64,)"
      ]
     },
     "execution_count": 118,
     "metadata": {},
     "output_type": "execute_result"
    }
   ],
   "source": [
    "np.sum(b, axis=(0,1,2)).shape"
   ]
  },
  {
   "cell_type": "code",
   "execution_count": 137,
   "id": "80cbc548-f90b-4b53-93d5-13d95e3240f9",
   "metadata": {},
   "outputs": [
    {
     "data": {
      "text/plain": [
       "(128, 55, 55, 11, 11, 1)"
      ]
     },
     "execution_count": 137,
     "metadata": {},
     "output_type": "execute_result"
    }
   ],
   "source": [
    "q = np.tensordot(b, w, axes=(3, 3))\n",
    "q.shape"
   ]
  },
  {
   "cell_type": "code",
   "execution_count": 139,
   "id": "c562ee88-a785-4376-9425-af97f811c839",
   "metadata": {},
   "outputs": [
    {
     "data": {
      "text/plain": [
       "(128, 11, 11, 1)"
      ]
     },
     "execution_count": 139,
     "metadata": {},
     "output_type": "execute_result"
    }
   ],
   "source": [
    "q[:,  0, 0, :].shape"
   ]
  },
  {
   "cell_type": "code",
   "execution_count": 127,
   "id": "b83feb7a-3440-4046-838a-2acf0394b5af",
   "metadata": {},
   "outputs": [
    {
     "data": {
      "text/plain": [
       "(2928200, 53240, 968, 88, 8, 8)"
      ]
     },
     "execution_count": 127,
     "metadata": {},
     "output_type": "execute_result"
    }
   ],
   "source": [
    "a.strides"
   ]
  },
  {
   "cell_type": "code",
   "execution_count": 128,
   "id": "f1f90486-c7b2-4281-9070-c6207ceb922b",
   "metadata": {},
   "outputs": [],
   "source": [
    "c = np.random.rand(128, 227, 227, 1)"
   ]
  },
  {
   "cell_type": "code",
   "execution_count": 129,
   "id": "282bdcb1-739e-476d-89d4-e46368ad61ae",
   "metadata": {},
   "outputs": [
    {
     "data": {
      "text/plain": [
       "(412232, 1816, 8, 8)"
      ]
     },
     "execution_count": 129,
     "metadata": {},
     "output_type": "execute_result"
    }
   ],
   "source": [
    "c.strides"
   ]
  },
  {
   "cell_type": "code",
   "execution_count": 131,
   "id": "44e8811b-950f-41b6-b4be-6a61b637fc8f",
   "metadata": {},
   "outputs": [
    {
     "name": "stdout",
     "output_type": "stream",
     "text": [
      "(128, 55, 55, 11, 11, 1) (412232, 7264, 32, 1816, 8, 8)\n"
     ]
    }
   ],
   "source": [
    "r = conv2d(c, w, 4 )"
   ]
  },
  {
   "cell_type": "code",
   "execution_count": 132,
   "id": "325ca075-16c0-4b31-a729-7e2c100f7f3e",
   "metadata": {},
   "outputs": [
    {
     "data": {
      "text/plain": [
       "(1548800, 28160, 512, 8)"
      ]
     },
     "execution_count": 132,
     "metadata": {},
     "output_type": "execute_result"
    }
   ],
   "source": [
    "r.strides"
   ]
  },
  {
   "cell_type": "code",
   "execution_count": 133,
   "id": "efd1cfa5-d45d-462f-9500-92403c7c5d18",
   "metadata": {},
   "outputs": [
    {
     "data": {
      "text/plain": [
       "(128, 55, 55, 64)"
      ]
     },
     "execution_count": 133,
     "metadata": {},
     "output_type": "execute_result"
    }
   ],
   "source": [
    "r.shape"
   ]
  },
  {
   "cell_type": "code",
   "execution_count": 42,
   "id": "125d4967-fcb2-4a2f-b482-b8f0bf534c11",
   "metadata": {},
   "outputs": [],
   "source": [
    "import numpy as np\n",
    "a = np.array([[[1, 2, 3], [9, 8, 7], [9, 8, 7]], [[5, 100, 3], [9, 10, 7], [9, 8, 7]]])"
   ]
  },
  {
   "cell_type": "code",
   "execution_count": 48,
   "id": "faaf27ee-e4a1-4f7a-953d-9e101cd52a77",
   "metadata": {},
   "outputs": [
    {
     "data": {
      "text/plain": [
       "(2, 3, 3)"
      ]
     },
     "execution_count": 48,
     "metadata": {},
     "output_type": "execute_result"
    }
   ],
   "source": [
    "a.shape"
   ]
  },
  {
   "cell_type": "code",
   "execution_count": 46,
   "id": "d35c65fc-13f6-4913-b4b7-54caaf8e8838",
   "metadata": {},
   "outputs": [
    {
     "data": {
      "text/plain": [
       "array([[2, 0, 0],\n",
       "       [1, 1, 0]])"
      ]
     },
     "execution_count": 46,
     "metadata": {},
     "output_type": "execute_result"
    }
   ],
   "source": [
    "x"
   ]
  },
  {
   "cell_type": "code",
   "execution_count": 31,
   "id": "1bcd68e7-d4fc-40a2-8dff-5ac194a09366",
   "metadata": {},
   "outputs": [],
   "source": [
    "# a[a.argmax(axis=1)]"
   ]
  },
  {
   "cell_type": "code",
   "execution_count": 51,
   "id": "fd8915c3-6e9a-432e-8b2f-bbbcbe680358",
   "metadata": {},
   "outputs": [
    {
     "data": {
      "text/plain": [
       "array([[  1,   2,   3,   9,   8,   7,   9,   8,   7],\n",
       "       [  5, 100,   3,   9,  10,   7,   9,   8,   7]])"
      ]
     },
     "execution_count": 51,
     "metadata": {},
     "output_type": "execute_result"
    }
   ],
   "source": [
    "a = a.reshape(2, 9)\n",
    "a"
   ]
  },
  {
   "cell_type": "code",
   "execution_count": 54,
   "id": "feb501c4-cbe6-485c-bd2f-c99e482d22ee",
   "metadata": {},
   "outputs": [
    {
     "data": {
      "text/plain": [
       "array([3, 1])"
      ]
     },
     "execution_count": 54,
     "metadata": {},
     "output_type": "execute_result"
    }
   ],
   "source": [
    "x = a.argmax(axis=1)\n",
    "x"
   ]
  },
  {
   "cell_type": "code",
   "execution_count": 60,
   "id": "bff21545-ece6-42d0-9f00-30c453e36a7e",
   "metadata": {},
   "outputs": [
    {
     "data": {
      "text/plain": [
       "array([[  9, 100]])"
      ]
     },
     "execution_count": 60,
     "metadata": {},
     "output_type": "execute_result"
    }
   ],
   "source": [
    "I=np.ix_(range(2))\n",
    "a[I, x]"
   ]
  },
  {
   "cell_type": "code",
   "execution_count": 34,
   "id": "6a68e4b6-572a-4a6c-b67c-295b262849bd",
   "metadata": {},
   "outputs": [
    {
     "data": {
      "text/plain": [
       "array([[2, 0]])"
      ]
     },
     "execution_count": 34,
     "metadata": {},
     "output_type": "execute_result"
    }
   ],
   "source": [
    "x"
   ]
  },
  {
   "cell_type": "code",
   "execution_count": 11,
   "id": "339545d2-5e52-4618-a364-19f5872d7e48",
   "metadata": {},
   "outputs": [
    {
     "data": {
      "text/plain": [
       "array([[ 0.,  2.,  4.,  6.,  8.],\n",
       "       [10., 12., 14., 16., 18.],\n",
       "       [20., 22., 24., 26., 28.],\n",
       "       [30., 32., 34., 36., 38.],\n",
       "       [ 0.,  0.,  0.,  0.,  0.]], dtype=float32)"
      ]
     },
     "execution_count": 11,
     "metadata": {},
     "output_type": "execute_result"
    }
   ],
   "source": [
    "import cupy as cp\n",
    "\n",
    "add_kernel = cp.RawKernel(r'''\n",
    "extern \"C\" __global__\n",
    "void add(float* y, const float* x1, const float* x2, int N) {\n",
    "    int a = 1/0;\n",
    "    int tid = blockDim.x * blockIdx.x + threadIdx.x;\n",
    "    if (tid<N){\n",
    "        y[tid] = x1[tid] + x2[tid]/0;\n",
    "    }\n",
    "}\n",
    "''', 'add')\n",
    "x1 = cp.arange(25, dtype=cp.float32).reshape(5, 5)\n",
    "x2 = cp.arange(25, dtype=cp.float32).reshape(5, 5)\n",
    "y = cp.zeros((5, 5), dtype=cp.float32)\n",
    "add_kernel((5,), (5,), (y, x1, x2, 20))  # grid, block and arguments\n",
    "y"
   ]
  },
  {
   "cell_type": "code",
   "execution_count": null,
   "id": "07e03cba-f5d2-46a7-aa8f-e6ca157a91a2",
   "metadata": {},
   "outputs": [],
   "source": []
  }
 ],
 "metadata": {
  "kernelspec": {
   "display_name": "Python 3",
   "language": "python",
   "name": "python3"
  },
  "language_info": {
   "codemirror_mode": {
    "name": "ipython",
    "version": 3
   },
   "file_extension": ".py",
   "mimetype": "text/x-python",
   "name": "python",
   "nbconvert_exporter": "python",
   "pygments_lexer": "ipython3",
   "version": "3.8.10"
  }
 },
 "nbformat": 4,
 "nbformat_minor": 5
}

{
 "cells": [
  {
   "cell_type": "code",
   "execution_count": 12,
   "id": "f1bc39ac-bca4-49ae-90b9-9f48a82dd83e",
   "metadata": {},
   "outputs": [],
   "source": [
    "import pycuda.gpuarray as gpuarray\n",
    "import pycuda.driver as cuda\n",
    "import pycuda.autoinit\n",
    "import numpy as np\n",
    "\n",
    "import pycuda\n",
    "import cupy as cp\n",
    "\n",
    "# from pyculib.blas import Blas\n",
    "# Blas = Blas()"
   ]
  },
  {
   "cell_type": "code",
   "execution_count": 13,
   "id": "09718d3f-f253-4a8e-8226-20c0ec64f982",
   "metadata": {},
   "outputs": [],
   "source": [
    "\n",
    "a_gpu = cp.random.randn(4, 4)\n",
    "b_gpu = cp.random.randn(4, 4)\n",
    "\n",
    "c_gpu = cp.dot(a_gpu, b_gpu)"
   ]
  },
  {
   "cell_type": "code",
   "execution_count": 18,
   "id": "a2ad0e01-be4d-4058-b7b0-c693badc3dfa",
   "metadata": {},
   "outputs": [
    {
     "data": {
      "text/plain": [
       "(array([[-0.45208806, -1.45588358, -0.10702163, -1.93156534],\n",
       "        [-2.57512826,  2.32087814, -0.81009215, -1.59609201],\n",
       "        [-0.62343255, -1.1545197 ,  1.22625423, -0.23463489],\n",
       "        [ 1.0176159 ,  0.19221372,  1.37841437, -1.05242602]]),\n",
       " array([[-0.74161874, -0.46466223, -0.24858672, -0.58552531],\n",
       "        [-0.33044028, -0.12392781,  1.26150275,  1.19077757],\n",
       "        [ 1.06636659,  2.06785923,  2.2291372 ,  1.65695417],\n",
       "        [-0.70977577,  0.77419017,  0.74723562, -0.03498322]]),\n",
       " array([[ 2.07321354, -1.32621186, -3.4061184 , -1.57868207],\n",
       "        [ 1.41186398, -2.00189179,  0.56947349,  2.98500328],\n",
       "        [ 2.31802379,  2.78683177,  1.25670865,  1.03031472],\n",
       "        [ 1.39868333,  1.5389207 ,  2.27577688,  1.95383061]]))"
      ]
     },
     "execution_count": 18,
     "metadata": {},
     "output_type": "execute_result"
    }
   ],
   "source": [
    "a_gpu, b_gpu, c_gpu"
   ]
  },
  {
   "cell_type": "code",
   "execution_count": 9,
   "id": "207ab799-0b0a-42df-8326-dee763bfc5c3",
   "metadata": {},
   "outputs": [],
   "source": [
    "a_gpu = gpuarray.to_gpu(numpy.random.randn(4, 4).astype(numpy.float32))\n",
    "b_gpu = gpuarray.to_gpu(numpy.random.randn(4, 4).astype(numpy.float32))\n",
    "c_gpu = gpuarray.to_gpu(numpy.zeros((4,4)).astype(numpy.float32))\n",
    "\n",
    "\n",
    "# Blas.gemm('N', 'N', 4, 4, 4, a_gpu, b_gpu, 0, c_gpu)"
   ]
  },
  {
   "cell_type": "code",
   "execution_count": 10,
   "id": "c44b4b68-50a1-4aa3-aea8-c1bf46a9740a",
   "metadata": {},
   "outputs": [
    {
     "ename": "AttributeError",
     "evalue": "'GPUArray' object has no attribute 'dot'",
     "output_type": "error",
     "traceback": [
      "\u001b[0;31m---------------------------------------------------------------------------\u001b[0m",
      "\u001b[0;31mAttributeError\u001b[0m                            Traceback (most recent call last)",
      "\u001b[0;32m<ipython-input-10-ac2419bfae16>\u001b[0m in \u001b[0;36m<module>\u001b[0;34m\u001b[0m\n\u001b[0;32m----> 1\u001b[0;31m \u001b[0mc_gpu\u001b[0m \u001b[0;34m=\u001b[0m \u001b[0mcp\u001b[0m\u001b[0;34m.\u001b[0m\u001b[0mdot\u001b[0m\u001b[0;34m(\u001b[0m\u001b[0ma_gpu\u001b[0m\u001b[0;34m,\u001b[0m \u001b[0mb_gpu\u001b[0m\u001b[0;34m)\u001b[0m\u001b[0;34m\u001b[0m\u001b[0;34m\u001b[0m\u001b[0m\n\u001b[0m",
      "\u001b[0;32m~/jup_env/lib/python3.8/site-packages/cupy/linalg/_product.py\u001b[0m in \u001b[0;36mdot\u001b[0;34m(a, b, out)\u001b[0m\n\u001b[1;32m     63\u001b[0m     \"\"\"\n\u001b[1;32m     64\u001b[0m     \u001b[0;31m# TODO(okuta): check type\u001b[0m\u001b[0;34m\u001b[0m\u001b[0;34m\u001b[0m\u001b[0;34m\u001b[0m\u001b[0m\n\u001b[0;32m---> 65\u001b[0;31m     \u001b[0;32mreturn\u001b[0m \u001b[0ma\u001b[0m\u001b[0;34m.\u001b[0m\u001b[0mdot\u001b[0m\u001b[0;34m(\u001b[0m\u001b[0mb\u001b[0m\u001b[0;34m,\u001b[0m \u001b[0mout\u001b[0m\u001b[0;34m)\u001b[0m\u001b[0;34m\u001b[0m\u001b[0;34m\u001b[0m\u001b[0m\n\u001b[0m\u001b[1;32m     66\u001b[0m \u001b[0;34m\u001b[0m\u001b[0m\n\u001b[1;32m     67\u001b[0m \u001b[0;34m\u001b[0m\u001b[0m\n",
      "\u001b[0;31mAttributeError\u001b[0m: 'GPUArray' object has no attribute 'dot'"
     ]
    }
   ],
   "source": []
  },
  {
   "cell_type": "code",
   "execution_count": 38,
   "id": "c8db8b7b-6b24-4aca-8549-ccf5f9dd79f1",
   "metadata": {},
   "outputs": [
    {
     "name": "stdout",
     "output_type": "stream",
     "text": [
      "original array:\n",
      "[[-0.11195923 -0.22853392 -0.6305419  -0.19271427]\n",
      " [ 0.8398443   0.16593747  0.31804982  2.5873938 ]\n",
      " [-0.7881569   1.2949262  -0.79106194  1.0940986 ]\n",
      " [-1.3863486  -0.19165555 -1.1574366  -0.7090791 ]]\n",
      "doubled with gpuarray:\n",
      "[[-0.22391845 -0.45706785 -1.2610838  -0.38542855]\n",
      " [ 1.6796886   0.33187494  0.63609964  5.1747875 ]\n",
      " [-1.5763139   2.5898523  -1.5821239   2.1881971 ]\n",
      " [-2.7726972  -0.3833111  -2.3148732  -1.4181582 ]]\n"
     ]
    }
   ],
   "source": [
    "#!python \n",
    "# Sample source code from the Tutorial Introduction in the documentation.\n",
    "\n",
    "import pycuda.driver as cuda\n",
    "import pycuda.autoinit\n",
    "from pycuda.compiler import SourceModule\n",
    "\n",
    "import numpy\n",
    "a = numpy.random.randn(4,4)\n",
    "\n",
    "a = a.astype(numpy.float32)\n",
    "\n",
    "a_gpu = cuda.mem_alloc(a.size * a.dtype.itemsize)\n",
    "\n",
    "cuda.memcpy_htod(a_gpu, a)\n",
    "\n",
    "mod = SourceModule(\"\"\"\n",
    "    __global__ void doublify(float *a)\n",
    "    {\n",
    "      int idx = threadIdx.x + threadIdx.y*4;\n",
    "      a[idx] *= 2;\n",
    "    }\n",
    "    \"\"\")\n",
    "\n",
    "func = mod.get_function(\"doublify\")\n",
    "func(a_gpu, block=(4, 4, 1))\n",
    "\n",
    "a_doubled = numpy.empty_like(a)\n",
    "cuda.memcpy_dtoh(a_doubled, a_gpu)\n",
    "print (\"original array:\")\n",
    "print (a)\n",
    "print (\"doubled with gpuarray:\")\n",
    "print (a_doubled)\n",
    "\n",
    "# alternate kernel invocation -------------------------------------------------\n",
    "\n",
    "# func(cuda.InOut(a), block=(2, 2, 1))\n",
    "# print (\"doubled with InOut:\")\n",
    "# print (a)\n",
    "\n",
    "# # part 2 ----------------------------------------------------------------------\n",
    "\n",
    "# import pycuda.gpuarray as gpuarray\n",
    "# a_gpu = gpuarray.to_gpu(numpy.random.randn(4,4).astype(numpy.float32))\n",
    "# a_doubled = (2*a_gpu).get()\n",
    "\n",
    "# print (\"original array:\")\n",
    "# print (a_gpu)\n",
    "# print (\"doubled with gpuarray:\")\n",
    "# print (a_doubled)"
   ]
  },
  {
   "cell_type": "code",
   "execution_count": null,
   "id": "d3d59509-0df2-4d00-9db1-1ac017a121e0",
   "metadata": {},
   "outputs": [],
   "source": []
  },
  {
   "cell_type": "code",
   "execution_count": 20,
   "id": "bb35fb8c-4f83-4787-bd1a-0ce96dda310d",
   "metadata": {},
   "outputs": [],
   "source": [
    "A = gpuarray.to_gpu(numpy.random.randn(4, 4).astype(numpy.float32))\n",
    "B = gpuarray.to_gpu(numpy.random.randn(4, 4).astype(numpy.float32))\n",
    "C = gpuarray.to_gpu(numpy.zeros((4, 4), dtype=numpy.float32))#.astype(numpy.float32))\n",
    "\n",
    "# C = gpuarray.to_gpu(numpy.zeros(4, 4).astype(numpy.float32))\n"
   ]
  },
  {
   "cell_type": "code",
   "execution_count": null,
   "id": "98d03887-f698-468c-a43e-25121ac019c7",
   "metadata": {},
   "outputs": [],
   "source": []
  }
 ],
 "metadata": {
  "kernelspec": {
   "display_name": "Python 3",
   "language": "python",
   "name": "python3"
  },
  "language_info": {
   "codemirror_mode": {
    "name": "ipython",
    "version": 3
   },
   "file_extension": ".py",
   "mimetype": "text/x-python",
   "name": "python",
   "nbconvert_exporter": "python",
   "pygments_lexer": "ipython3",
   "version": "3.8.10"
  }
 },
 "nbformat": 4,
 "nbformat_minor": 5
}
